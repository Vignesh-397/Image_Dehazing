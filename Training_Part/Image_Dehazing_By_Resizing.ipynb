{
  "nbformat": 4,
  "nbformat_minor": 0,
  "metadata": {
    "colab": {
      "provenance": [],
      "gpuType": "T4",
      "collapsed_sections": [
        "hsYPviXg4z-Y",
        "R86tV-ID48iS",
        "Vl2thmIRfKri",
        "ajDVwuR45Fh6"
      ],
      "mount_file_id": "1I0GbJazK_8S2xGTHw6iTDzQe-7GzqoJX",
      "authorship_tag": "ABX9TyOnoPO6flvy1/YX6SQCM2rT",
      "include_colab_link": true
    },
    "kernelspec": {
      "name": "python3",
      "display_name": "Python 3"
    },
    "language_info": {
      "name": "python"
    },
    "accelerator": "GPU"
  },
  "cells": [
    {
      "cell_type": "markdown",
      "metadata": {
        "id": "view-in-github",
        "colab_type": "text"
      },
      "source": [
        "<a href=\"https://colab.research.google.com/github/Vignesh-397/Image_Dehazing/blob/main/Training_Part/Image_Dehazing_By_Resizing.ipynb\" target=\"_parent\"><img src=\"https://colab.research.google.com/assets/colab-badge.svg\" alt=\"Open In Colab\"/></a>"
      ]
    },
    {
      "cell_type": "markdown",
      "source": [
        "##**Importing libraries**\n",
        "\n"
      ],
      "metadata": {
        "id": "nCPW8G733Nkw"
      }
    },
    {
      "cell_type": "code",
      "execution_count": null,
      "metadata": {
        "id": "LpDU6NTv2T-6"
      },
      "outputs": [],
      "source": [
        "import os\n",
        "import numpy as np\n",
        "import shutil\n",
        "import glob\n",
        "import cv2\n",
        "import matplotlib.pyplot as plt\n",
        "import glob\n",
        "\n",
        "import keras\n",
        "import tensorflow as tf\n",
        "from tensorflow.keras import backend as K\n",
        "from tensorflow.keras.models import *\n",
        "from tensorflow.keras.layers import *\n",
        "from tensorflow.keras.optimizers import *\n",
        "from tensorflow.keras.applications import *\n",
        "from tensorflow.keras.losses import MSE\n",
        "from tensorflow.keras.callbacks import ModelCheckpoint"
      ]
    },
    {
      "cell_type": "markdown",
      "source": [
        "## **Specifying paths for dataset**"
      ],
      "metadata": {
        "id": "zEk7kWTU3boa"
      }
    },
    {
      "cell_type": "code",
      "source": [
        "train_hazy_path = glob.glob('/content/drive/MyDrive/dataset/train/hazy/*')\n",
        "val_hazy_path = glob.glob('/content/drive/MyDrive/dataset/val/hazy/*')\n",
        "\n",
        "gt_paths = '/content/drive/MyDrive/dataset/train/clear/'\n",
        "val_gt_paths = '/content/drive/MyDrive/dataset/val/clear/'\n",
        "\n",
        "savepath =\"/content/outdoorunet-{epoch:02d}-{loss:.4f}.hdf5\"\n",
        "\n",
        "batch_size = 6"
      ],
      "metadata": {
        "id": "HOzd0xem2k3K"
      },
      "execution_count": null,
      "outputs": []
    },
    {
      "cell_type": "markdown",
      "source": [
        "## **Image loading to train dataset**"
      ],
      "metadata": {
        "id": "YluBKE7531lp"
      }
    },
    {
      "cell_type": "code",
      "source": [
        "# get images in batch\n",
        "def get_images(path):\n",
        "    imgs = []\n",
        "    for i in path:\n",
        "        img = cv2.imread(i)/255.\n",
        "        I = img\n",
        "\n",
        "        l = cv2.resize(I, (256, 256))\n",
        "\n",
        "        imgs.append(l)\n",
        "\n",
        "    return imgs\n",
        "\n",
        "def get_gt_images(path, gt_path):\n",
        "    imgs = []\n",
        "    for hazy_image_path in path:\n",
        "        filename = os.path.basename(hazy_image_path)\n",
        "\n",
        "        gt_image_path = os.path.join(gt_path, filename)\n",
        "\n",
        "        img = cv2.imread(gt_image_path)\n",
        "        I = img / 255.0\n",
        "        l = cv2.resize(I, (256, 256))\n",
        "\n",
        "        imgs.append(l)\n",
        "\n",
        "    return imgs"
      ],
      "metadata": {
        "id": "2-YQ2LRH3QEu"
      },
      "execution_count": null,
      "outputs": []
    },
    {
      "cell_type": "markdown",
      "source": [
        "## **Loading images as batches for training**"
      ],
      "metadata": {
        "id": "-fkS-CCi4CUc"
      }
    },
    {
      "cell_type": "code",
      "source": [
        "\n",
        "def train_generator(train_path, batch_size):\n",
        "    L = len(train_path)\n",
        "    while True:\n",
        "        batch_start = 0\n",
        "        batch_end = batch_size\n",
        "\n",
        "        while batch_start < L:\n",
        "            limit = min(batch_end, L)\n",
        "            # X_load as input images\n",
        "            X_load = get_images(train_path[batch_start:limit])\n",
        "            # Y_load as ground truth images\n",
        "            Y_load = get_gt_images(train_path[batch_start:limit], gt_paths)\n",
        "\n",
        "            # Stack the images load as batch\n",
        "            X = np.stack(X_load, axis=0)\n",
        "            Y = np.stack(Y_load, axis=0)\n",
        "\n",
        "            batch_start += batch_size\n",
        "            batch_end += batch_size\n",
        "\n",
        "            yield (X, Y)\n"
      ],
      "metadata": {
        "id": "-61p0kX_3tgl"
      },
      "execution_count": null,
      "outputs": []
    },
    {
      "cell_type": "markdown",
      "source": [
        "## **Generating validation data**"
      ],
      "metadata": {
        "id": "K-2pjG6u4JbW"
      }
    },
    {
      "cell_type": "code",
      "source": [
        "def val_generator(val_path, batch_size):\n",
        "    L = len(val_path)\n",
        "    while True:\n",
        "        batch_start = 0\n",
        "        batch_end = batch_size\n",
        "\n",
        "        while batch_start < L:\n",
        "            limit = min(batch_end, L)\n",
        "            X_load = get_images(val_path[batch_start:limit])\n",
        "            Y_load = get_gt_images(val_path[batch_start:limit], val_gt_paths)\n",
        "            X = np.stack(X_load, axis=0)\n",
        "            Y = np.stack(Y_load, axis=0)\n",
        "\n",
        "            batch_start += batch_size\n",
        "            batch_end += batch_size\n",
        "\n",
        "            yield (X, Y)"
      ],
      "metadata": {
        "id": "QHS-uKV24CHe"
      },
      "execution_count": null,
      "outputs": []
    },
    {
      "cell_type": "markdown",
      "source": [
        "## **Create the VGG model and define loss function**"
      ],
      "metadata": {
        "id": "CPnI5S6n4T-4"
      }
    },
    {
      "cell_type": "code",
      "source": [
        "vgg = VGG19(include_top=False, weights='imagenet')\n",
        "vgg.trainable = False\n",
        "content_layer = 'block2_conv2'\n",
        "loss_model = Model(vgg.input, vgg.get_layer(content_layer).output)\n",
        "\n",
        "# Perceptual loss using VGG19\n",
        "def lossVGG(y_true, y_pred, loss_model):\n",
        "    vggX = loss_model(y_pred)\n",
        "    vggY = loss_model(y_true)\n",
        "    return K.mean(K.square(vggX - vggY))\n",
        "\n",
        "# Total loss\n",
        "def my_loss(y_true, y_pred):\n",
        "    mse = MSE(y_true, y_pred)\n",
        "    return lossVGG(y_true, y_pred, loss_model) + mse"
      ],
      "metadata": {
        "id": "KRdaeA3b5UBs"
      },
      "execution_count": null,
      "outputs": []
    },
    {
      "cell_type": "markdown",
      "source": [
        "## **Model implementation**"
      ],
      "metadata": {
        "id": "hsYPviXg4z-Y"
      }
    },
    {
      "cell_type": "code",
      "source": [
        "def dseu():\n",
        "    inputs = Input((None, None, 3))\n",
        "\n",
        "    # Encoder part\n",
        "    conv1 = Conv2D(64, (3, 3), padding='same', kernel_initializer='he_normal')(inputs)\n",
        "    conv1 = BatchNormalization()(conv1)\n",
        "    conv1 = Activation('relu')(conv1)\n",
        "    conv1 = Conv2D(64, (3, 3), padding='same', kernel_initializer='he_normal')(conv1)\n",
        "    conv1 = BatchNormalization()(conv1)\n",
        "    conv1 = Activation('relu')(conv1)\n",
        "    pool1 = MaxPooling2D(pool_size=(2, 2))(conv1)\n",
        "\n",
        "    conv2 = Conv2D(128, (3, 3), padding='same', kernel_initializer='he_normal')(pool1)\n",
        "    conv2 = BatchNormalization()(conv2)\n",
        "    conv2 = Activation('relu')(conv2)\n",
        "    conv2 = Conv2D(128, (3, 3), padding='same', kernel_initializer='he_normal')(conv2)\n",
        "    conv2 = BatchNormalization()(conv2)\n",
        "    conv2 = Activation('relu')(conv2)\n",
        "    pool2 = MaxPooling2D(pool_size=(2, 2))(conv2)\n",
        "\n",
        "    conv3 = Conv2D(256, (3, 3), padding='same', kernel_initializer='he_normal')(pool2)\n",
        "    conv3 = BatchNormalization()(conv3)\n",
        "    conv3 = Activation('relu')(conv3)\n",
        "    conv3 = Conv2D(256, (3, 3), padding='same', kernel_initializer='he_normal')(conv3)\n",
        "    conv3 = BatchNormalization()(conv3)\n",
        "    conv3 = Activation('relu')(conv3)\n",
        "    pool3 = MaxPooling2D(pool_size=(2, 2))(conv3)\n",
        "\n",
        "    conv4 = Conv2D(512, (3, 3), padding='same', kernel_initializer='he_normal')(pool3)\n",
        "    conv4 = BatchNormalization()(conv4)\n",
        "    conv4 = Activation('relu')(conv4)\n",
        "    conv4 = Conv2D(512, (3, 3), padding='same', kernel_initializer='he_normal')(conv4)\n",
        "    conv4 = BatchNormalization()(conv4)\n",
        "    conv4 = Activation('relu')(conv4)\n",
        "    pool4 = MaxPooling2D(pool_size=(2, 2))(conv4)\n",
        "\n",
        "    # Bottleneck\n",
        "    dilate1 = Conv2D(256, (3, 3), padding='same', dilation_rate=1, kernel_initializer='he_normal')(pool4)\n",
        "    dilate1 = BatchNormalization()(dilate1)\n",
        "    dilate1 = Activation('relu')(dilate1)\n",
        "    dilate2 = Conv2D(256, (3, 3), padding='same', dilation_rate=2, kernel_initializer='he_normal')(pool4)\n",
        "    dilate2 = BatchNormalization()(dilate2)\n",
        "    dilate2 = Activation('relu')(dilate2)\n",
        "    dilate3 = Conv2D(256, (3, 3), padding='same', dilation_rate=4, kernel_initializer='he_normal')(pool4)\n",
        "    dilate3 = BatchNormalization()(dilate3)\n",
        "    dilate3 = Activation('relu')(dilate3)\n",
        "    dilate4 = Conv2D(256, (3, 3), padding='same', dilation_rate=8, kernel_initializer='he_normal')(pool4)\n",
        "    dilate4 = BatchNormalization()(dilate4)\n",
        "    dilate4 = Activation('relu')(dilate4)\n",
        "\n",
        "    convm = concatenate([dilate1, dilate2, dilate3, dilate4], axis=3)\n",
        "\n",
        "    # Decoder part\n",
        "    up6 = UpSampling2D(size=(2, 2))(convm)\n",
        "    up6 = Conv2D(512, (2, 2), padding='same', kernel_initializer='he_normal')(up6)\n",
        "    up6 = BatchNormalization()(up6)\n",
        "    up6 = Activation('relu')(up6)\n",
        "    merge6 = concatenate([conv4, up6], axis=3)\n",
        "    conv6 = Conv2D(512, (3, 3), padding='same', kernel_initializer='he_normal')(merge6)\n",
        "    conv6 = BatchNormalization()(conv6)\n",
        "    conv6 = Activation('relu')(conv6)\n",
        "    conv6 = Conv2D(512, (3, 3), padding='same', kernel_initializer='he_normal')(conv6)\n",
        "    conv6 = BatchNormalization()(conv6)\n",
        "    conv6 = Activation('relu')(conv6)\n",
        "\n",
        "    up7 = UpSampling2D(size=(2, 2))(conv6)\n",
        "    up7 = Conv2D(256, (2, 2), padding='same', kernel_initializer='he_normal')(up7)\n",
        "    up7 = BatchNormalization()(up7)\n",
        "    up7 = Activation('relu')(up7)\n",
        "    merge7 = concatenate([conv3, up7], axis=3)\n",
        "    conv7 = Conv2D(256, (3, 3), padding='same', kernel_initializer='he_normal')(merge7)\n",
        "    conv7 = BatchNormalization()(conv7)\n",
        "    conv7 = Activation('relu')(conv7)\n",
        "    conv7 = Conv2D(256, (3, 3), padding='same', kernel_initializer='he_normal')(conv7)\n",
        "    conv7 = BatchNormalization()(conv7)\n",
        "    conv7 = Activation('relu')(conv7)\n",
        "\n",
        "    up8 = UpSampling2D(size=(2, 2))(conv7)\n",
        "    up8 = Conv2D(128, (2, 2), padding='same', kernel_initializer='he_normal')(up8)\n",
        "    up8 = BatchNormalization()(up8)\n",
        "    up8 = Activation('relu')(up8)\n",
        "    merge8 = concatenate([conv2, up8], axis=3)\n",
        "    conv8 = Conv2D(128, (3, 3), padding='same', kernel_initializer='he_normal')(merge8)\n",
        "    conv8 = BatchNormalization()(conv8)\n",
        "    conv8 = Activation('relu')(conv8)\n",
        "    conv8 = Conv2D(128, (3, 3), padding='same', kernel_initializer='he_normal')(conv8)\n",
        "    conv8 = BatchNormalization()(conv8)\n",
        "    conv8 = Activation('relu')(conv8)\n",
        "\n",
        "    up9 = UpSampling2D(size=(2, 2))(conv8)\n",
        "    up9 = Conv2D(64, (2, 2), padding='same', kernel_initializer='he_normal')(up9)\n",
        "    up9 = BatchNormalization()(up9)\n",
        "    up9 = Activation('relu')(up9)\n",
        "    merge9 = concatenate([conv1, up9], axis=3)\n",
        "    conv9 = Conv2D(64, (3, 3), padding='same', kernel_initializer='he_normal')(merge9)\n",
        "    conv9 = BatchNormalization()(conv9)\n",
        "    conv9 = Activation('relu')(conv9)\n",
        "    conv9 = Conv2D(64, (3, 3), padding='same', kernel_initializer='he_normal')(conv9)\n",
        "    conv9 = BatchNormalization()(conv9)\n",
        "    conv9 = Activation('relu')(conv9)\n",
        "    conv9 = Conv2D(3, (3, 3), padding='same', kernel_initializer='he_normal')(conv9)\n",
        "\n",
        "    conv10 = Activation('sigmoid')(conv9)\n",
        "\n",
        "    model = Model(inputs=inputs, outputs=conv10)\n",
        "\n",
        "    return model"
      ],
      "metadata": {
        "id": "nIVIUj6C4HUq"
      },
      "execution_count": null,
      "outputs": []
    },
    {
      "cell_type": "markdown",
      "source": [
        "## **Compiling the model**"
      ],
      "metadata": {
        "id": "QyZbV1ct43pS"
      }
    },
    {
      "cell_type": "code",
      "source": [
        "model = dseu()\n",
        "model.compile(optimizer=Adam(lr=1e-4), loss=my_loss, metrics=['accuracy'])\n",
        "model.summary()\n"
      ],
      "metadata": {
        "colab": {
          "base_uri": "https://localhost:8080/"
        },
        "collapsed": true,
        "id": "EEChRzju4Syi",
        "outputId": "0f48f085-2957-45a4-d78c-baadcffa351c"
      },
      "execution_count": null,
      "outputs": [
        {
          "output_type": "stream",
          "name": "stderr",
          "text": [
            "WARNING:absl:`lr` is deprecated in Keras optimizer, please use `learning_rate` or use the legacy optimizer, e.g.,tf.keras.optimizers.legacy.Adam.\n"
          ]
        },
        {
          "output_type": "stream",
          "name": "stdout",
          "text": [
            "Model: \"model_3\"\n",
            "__________________________________________________________________________________________________\n",
            " Layer (type)                Output Shape                 Param #   Connected to                  \n",
            "==================================================================================================\n",
            " input_4 (InputLayer)        [(None, None, None, 3)]      0         []                            \n",
            "                                                                                                  \n",
            " conv2d_25 (Conv2D)          (None, None, None, 64)       1792      ['input_4[0][0]']             \n",
            "                                                                                                  \n",
            " batch_normalization_24 (Ba  (None, None, None, 64)       256       ['conv2d_25[0][0]']           \n",
            " tchNormalization)                                                                                \n",
            "                                                                                                  \n",
            " activation_25 (Activation)  (None, None, None, 64)       0         ['batch_normalization_24[0][0]\n",
            "                                                                    ']                            \n",
            "                                                                                                  \n",
            " conv2d_26 (Conv2D)          (None, None, None, 64)       36928     ['activation_25[0][0]']       \n",
            "                                                                                                  \n",
            " batch_normalization_25 (Ba  (None, None, None, 64)       256       ['conv2d_26[0][0]']           \n",
            " tchNormalization)                                                                                \n",
            "                                                                                                  \n",
            " activation_26 (Activation)  (None, None, None, 64)       0         ['batch_normalization_25[0][0]\n",
            "                                                                    ']                            \n",
            "                                                                                                  \n",
            " max_pooling2d_4 (MaxPoolin  (None, None, None, 64)       0         ['activation_26[0][0]']       \n",
            " g2D)                                                                                             \n",
            "                                                                                                  \n",
            " conv2d_27 (Conv2D)          (None, None, None, 128)      73856     ['max_pooling2d_4[0][0]']     \n",
            "                                                                                                  \n",
            " batch_normalization_26 (Ba  (None, None, None, 128)      512       ['conv2d_27[0][0]']           \n",
            " tchNormalization)                                                                                \n",
            "                                                                                                  \n",
            " activation_27 (Activation)  (None, None, None, 128)      0         ['batch_normalization_26[0][0]\n",
            "                                                                    ']                            \n",
            "                                                                                                  \n",
            " conv2d_28 (Conv2D)          (None, None, None, 128)      147584    ['activation_27[0][0]']       \n",
            "                                                                                                  \n",
            " batch_normalization_27 (Ba  (None, None, None, 128)      512       ['conv2d_28[0][0]']           \n",
            " tchNormalization)                                                                                \n",
            "                                                                                                  \n",
            " activation_28 (Activation)  (None, None, None, 128)      0         ['batch_normalization_27[0][0]\n",
            "                                                                    ']                            \n",
            "                                                                                                  \n",
            " max_pooling2d_5 (MaxPoolin  (None, None, None, 128)      0         ['activation_28[0][0]']       \n",
            " g2D)                                                                                             \n",
            "                                                                                                  \n",
            " conv2d_29 (Conv2D)          (None, None, None, 256)      295168    ['max_pooling2d_5[0][0]']     \n",
            "                                                                                                  \n",
            " batch_normalization_28 (Ba  (None, None, None, 256)      1024      ['conv2d_29[0][0]']           \n",
            " tchNormalization)                                                                                \n",
            "                                                                                                  \n",
            " activation_29 (Activation)  (None, None, None, 256)      0         ['batch_normalization_28[0][0]\n",
            "                                                                    ']                            \n",
            "                                                                                                  \n",
            " conv2d_30 (Conv2D)          (None, None, None, 256)      590080    ['activation_29[0][0]']       \n",
            "                                                                                                  \n",
            " batch_normalization_29 (Ba  (None, None, None, 256)      1024      ['conv2d_30[0][0]']           \n",
            " tchNormalization)                                                                                \n",
            "                                                                                                  \n",
            " activation_30 (Activation)  (None, None, None, 256)      0         ['batch_normalization_29[0][0]\n",
            "                                                                    ']                            \n",
            "                                                                                                  \n",
            " max_pooling2d_6 (MaxPoolin  (None, None, None, 256)      0         ['activation_30[0][0]']       \n",
            " g2D)                                                                                             \n",
            "                                                                                                  \n",
            " conv2d_31 (Conv2D)          (None, None, None, 512)      1180160   ['max_pooling2d_6[0][0]']     \n",
            "                                                                                                  \n",
            " batch_normalization_30 (Ba  (None, None, None, 512)      2048      ['conv2d_31[0][0]']           \n",
            " tchNormalization)                                                                                \n",
            "                                                                                                  \n",
            " activation_31 (Activation)  (None, None, None, 512)      0         ['batch_normalization_30[0][0]\n",
            "                                                                    ']                            \n",
            "                                                                                                  \n",
            " conv2d_32 (Conv2D)          (None, None, None, 512)      2359808   ['activation_31[0][0]']       \n",
            "                                                                                                  \n",
            " batch_normalization_31 (Ba  (None, None, None, 512)      2048      ['conv2d_32[0][0]']           \n",
            " tchNormalization)                                                                                \n",
            "                                                                                                  \n",
            " activation_32 (Activation)  (None, None, None, 512)      0         ['batch_normalization_31[0][0]\n",
            "                                                                    ']                            \n",
            "                                                                                                  \n",
            " max_pooling2d_7 (MaxPoolin  (None, None, None, 512)      0         ['activation_32[0][0]']       \n",
            " g2D)                                                                                             \n",
            "                                                                                                  \n",
            " conv2d_33 (Conv2D)          (None, None, None, 256)      1179904   ['max_pooling2d_7[0][0]']     \n",
            "                                                                                                  \n",
            " conv2d_34 (Conv2D)          (None, None, None, 256)      1179904   ['max_pooling2d_7[0][0]']     \n",
            "                                                                                                  \n",
            " conv2d_35 (Conv2D)          (None, None, None, 256)      1179904   ['max_pooling2d_7[0][0]']     \n",
            "                                                                                                  \n",
            " conv2d_36 (Conv2D)          (None, None, None, 256)      1179904   ['max_pooling2d_7[0][0]']     \n",
            "                                                                                                  \n",
            " batch_normalization_32 (Ba  (None, None, None, 256)      1024      ['conv2d_33[0][0]']           \n",
            " tchNormalization)                                                                                \n",
            "                                                                                                  \n",
            " batch_normalization_33 (Ba  (None, None, None, 256)      1024      ['conv2d_34[0][0]']           \n",
            " tchNormalization)                                                                                \n",
            "                                                                                                  \n",
            " batch_normalization_34 (Ba  (None, None, None, 256)      1024      ['conv2d_35[0][0]']           \n",
            " tchNormalization)                                                                                \n",
            "                                                                                                  \n",
            " batch_normalization_35 (Ba  (None, None, None, 256)      1024      ['conv2d_36[0][0]']           \n",
            " tchNormalization)                                                                                \n",
            "                                                                                                  \n",
            " activation_33 (Activation)  (None, None, None, 256)      0         ['batch_normalization_32[0][0]\n",
            "                                                                    ']                            \n",
            "                                                                                                  \n",
            " activation_34 (Activation)  (None, None, None, 256)      0         ['batch_normalization_33[0][0]\n",
            "                                                                    ']                            \n",
            "                                                                                                  \n",
            " activation_35 (Activation)  (None, None, None, 256)      0         ['batch_normalization_34[0][0]\n",
            "                                                                    ']                            \n",
            "                                                                                                  \n",
            " activation_36 (Activation)  (None, None, None, 256)      0         ['batch_normalization_35[0][0]\n",
            "                                                                    ']                            \n",
            "                                                                                                  \n",
            " concatenate_5 (Concatenate  (None, None, None, 1024)     0         ['activation_33[0][0]',       \n",
            " )                                                                   'activation_34[0][0]',       \n",
            "                                                                     'activation_35[0][0]',       \n",
            "                                                                     'activation_36[0][0]']       \n",
            "                                                                                                  \n",
            " up_sampling2d_4 (UpSamplin  (None, None, None, 1024)     0         ['concatenate_5[0][0]']       \n",
            " g2D)                                                                                             \n",
            "                                                                                                  \n",
            " conv2d_37 (Conv2D)          (None, None, None, 512)      2097664   ['up_sampling2d_4[0][0]']     \n",
            "                                                                                                  \n",
            " batch_normalization_36 (Ba  (None, None, None, 512)      2048      ['conv2d_37[0][0]']           \n",
            " tchNormalization)                                                                                \n",
            "                                                                                                  \n",
            " activation_37 (Activation)  (None, None, None, 512)      0         ['batch_normalization_36[0][0]\n",
            "                                                                    ']                            \n",
            "                                                                                                  \n",
            " concatenate_6 (Concatenate  (None, None, None, 1024)     0         ['activation_32[0][0]',       \n",
            " )                                                                   'activation_37[0][0]']       \n",
            "                                                                                                  \n",
            " conv2d_38 (Conv2D)          (None, None, None, 512)      4719104   ['concatenate_6[0][0]']       \n",
            "                                                                                                  \n",
            " batch_normalization_37 (Ba  (None, None, None, 512)      2048      ['conv2d_38[0][0]']           \n",
            " tchNormalization)                                                                                \n",
            "                                                                                                  \n",
            " activation_38 (Activation)  (None, None, None, 512)      0         ['batch_normalization_37[0][0]\n",
            "                                                                    ']                            \n",
            "                                                                                                  \n",
            " conv2d_39 (Conv2D)          (None, None, None, 512)      2359808   ['activation_38[0][0]']       \n",
            "                                                                                                  \n",
            " batch_normalization_38 (Ba  (None, None, None, 512)      2048      ['conv2d_39[0][0]']           \n",
            " tchNormalization)                                                                                \n",
            "                                                                                                  \n",
            " activation_39 (Activation)  (None, None, None, 512)      0         ['batch_normalization_38[0][0]\n",
            "                                                                    ']                            \n",
            "                                                                                                  \n",
            " up_sampling2d_5 (UpSamplin  (None, None, None, 512)      0         ['activation_39[0][0]']       \n",
            " g2D)                                                                                             \n",
            "                                                                                                  \n",
            " conv2d_40 (Conv2D)          (None, None, None, 256)      524544    ['up_sampling2d_5[0][0]']     \n",
            "                                                                                                  \n",
            " batch_normalization_39 (Ba  (None, None, None, 256)      1024      ['conv2d_40[0][0]']           \n",
            " tchNormalization)                                                                                \n",
            "                                                                                                  \n",
            " activation_40 (Activation)  (None, None, None, 256)      0         ['batch_normalization_39[0][0]\n",
            "                                                                    ']                            \n",
            "                                                                                                  \n",
            " concatenate_7 (Concatenate  (None, None, None, 512)      0         ['activation_30[0][0]',       \n",
            " )                                                                   'activation_40[0][0]']       \n",
            "                                                                                                  \n",
            " conv2d_41 (Conv2D)          (None, None, None, 256)      1179904   ['concatenate_7[0][0]']       \n",
            "                                                                                                  \n",
            " batch_normalization_40 (Ba  (None, None, None, 256)      1024      ['conv2d_41[0][0]']           \n",
            " tchNormalization)                                                                                \n",
            "                                                                                                  \n",
            " activation_41 (Activation)  (None, None, None, 256)      0         ['batch_normalization_40[0][0]\n",
            "                                                                    ']                            \n",
            "                                                                                                  \n",
            " conv2d_42 (Conv2D)          (None, None, None, 256)      590080    ['activation_41[0][0]']       \n",
            "                                                                                                  \n",
            " batch_normalization_41 (Ba  (None, None, None, 256)      1024      ['conv2d_42[0][0]']           \n",
            " tchNormalization)                                                                                \n",
            "                                                                                                  \n",
            " activation_42 (Activation)  (None, None, None, 256)      0         ['batch_normalization_41[0][0]\n",
            "                                                                    ']                            \n",
            "                                                                                                  \n",
            " up_sampling2d_6 (UpSamplin  (None, None, None, 256)      0         ['activation_42[0][0]']       \n",
            " g2D)                                                                                             \n",
            "                                                                                                  \n",
            " conv2d_43 (Conv2D)          (None, None, None, 128)      131200    ['up_sampling2d_6[0][0]']     \n",
            "                                                                                                  \n",
            " batch_normalization_42 (Ba  (None, None, None, 128)      512       ['conv2d_43[0][0]']           \n",
            " tchNormalization)                                                                                \n",
            "                                                                                                  \n",
            " activation_43 (Activation)  (None, None, None, 128)      0         ['batch_normalization_42[0][0]\n",
            "                                                                    ']                            \n",
            "                                                                                                  \n",
            " concatenate_8 (Concatenate  (None, None, None, 256)      0         ['activation_28[0][0]',       \n",
            " )                                                                   'activation_43[0][0]']       \n",
            "                                                                                                  \n",
            " conv2d_44 (Conv2D)          (None, None, None, 128)      295040    ['concatenate_8[0][0]']       \n",
            "                                                                                                  \n",
            " batch_normalization_43 (Ba  (None, None, None, 128)      512       ['conv2d_44[0][0]']           \n",
            " tchNormalization)                                                                                \n",
            "                                                                                                  \n",
            " activation_44 (Activation)  (None, None, None, 128)      0         ['batch_normalization_43[0][0]\n",
            "                                                                    ']                            \n",
            "                                                                                                  \n",
            " conv2d_45 (Conv2D)          (None, None, None, 128)      147584    ['activation_44[0][0]']       \n",
            "                                                                                                  \n",
            " batch_normalization_44 (Ba  (None, None, None, 128)      512       ['conv2d_45[0][0]']           \n",
            " tchNormalization)                                                                                \n",
            "                                                                                                  \n",
            " activation_45 (Activation)  (None, None, None, 128)      0         ['batch_normalization_44[0][0]\n",
            "                                                                    ']                            \n",
            "                                                                                                  \n",
            " up_sampling2d_7 (UpSamplin  (None, None, None, 128)      0         ['activation_45[0][0]']       \n",
            " g2D)                                                                                             \n",
            "                                                                                                  \n",
            " conv2d_46 (Conv2D)          (None, None, None, 64)       32832     ['up_sampling2d_7[0][0]']     \n",
            "                                                                                                  \n",
            " batch_normalization_45 (Ba  (None, None, None, 64)       256       ['conv2d_46[0][0]']           \n",
            " tchNormalization)                                                                                \n",
            "                                                                                                  \n",
            " activation_46 (Activation)  (None, None, None, 64)       0         ['batch_normalization_45[0][0]\n",
            "                                                                    ']                            \n",
            "                                                                                                  \n",
            " concatenate_9 (Concatenate  (None, None, None, 128)      0         ['activation_26[0][0]',       \n",
            " )                                                                   'activation_46[0][0]']       \n",
            "                                                                                                  \n",
            " conv2d_47 (Conv2D)          (None, None, None, 64)       73792     ['concatenate_9[0][0]']       \n",
            "                                                                                                  \n",
            " batch_normalization_46 (Ba  (None, None, None, 64)       256       ['conv2d_47[0][0]']           \n",
            " tchNormalization)                                                                                \n",
            "                                                                                                  \n",
            " activation_47 (Activation)  (None, None, None, 64)       0         ['batch_normalization_46[0][0]\n",
            "                                                                    ']                            \n",
            "                                                                                                  \n",
            " conv2d_48 (Conv2D)          (None, None, None, 64)       36928     ['activation_47[0][0]']       \n",
            "                                                                                                  \n",
            " batch_normalization_47 (Ba  (None, None, None, 64)       256       ['conv2d_48[0][0]']           \n",
            " tchNormalization)                                                                                \n",
            "                                                                                                  \n",
            " activation_48 (Activation)  (None, None, None, 64)       0         ['batch_normalization_47[0][0]\n",
            "                                                                    ']                            \n",
            "                                                                                                  \n",
            " conv2d_49 (Conv2D)          (None, None, None, 3)        1731      ['activation_48[0][0]']       \n",
            "                                                                                                  \n",
            " activation_49 (Activation)  (None, None, None, 3)        0         ['conv2d_49[0][0]']           \n",
            "                                                                                                  \n",
            "==================================================================================================\n",
            "Total params: 21618499 (82.47 MB)\n",
            "Trainable params: 21606851 (82.42 MB)\n",
            "Non-trainable params: 11648 (45.50 KB)\n",
            "__________________________________________________________________________________________________\n"
          ]
        }
      ]
    },
    {
      "cell_type": "markdown",
      "source": [
        "## **Define checkpoint**"
      ],
      "metadata": {
        "id": "R86tV-ID48iS"
      }
    },
    {
      "cell_type": "code",
      "source": [
        "model_checkpoint = ModelCheckpoint(savepath, monitor='loss', verbose=1, save_best_only=True)"
      ],
      "metadata": {
        "id": "DukTn4I_4bNZ"
      },
      "execution_count": null,
      "outputs": []
    },
    {
      "cell_type": "markdown",
      "source": [
        "## **Training the Model**"
      ],
      "metadata": {
        "id": "qS0Zmxdr4_mW"
      }
    },
    {
      "cell_type": "code",
      "source": [
        "history = model.fit(\n",
        "    train_generator(train_hazy_path, batch_size),\n",
        "    steps_per_epoch=len(train_hazy_path) // batch_size,\n",
        "    epochs=20,\n",
        "    verbose=1,\n",
        "    callbacks=[model_checkpoint],\n",
        "    validation_data=val_generator(val_hazy_path, batch_size),\n",
        "    validation_steps=len(val_hazy_path) // batch_size\n",
        ")\n"
      ],
      "metadata": {
        "colab": {
          "base_uri": "https://localhost:8080/"
        },
        "id": "4T2VO3dl4coh",
        "outputId": "fce80788-2d50-4cce-e4b8-6eaf6633cd4d"
      },
      "execution_count": null,
      "outputs": [
        {
          "output_type": "stream",
          "name": "stdout",
          "text": [
            "Epoch 1/20\n",
            "150/150 [==============================] - ETA: 0s - loss: 0.9643 - accuracy: 0.5483\n",
            "Epoch 1: loss improved from inf to 0.96426, saving model to /content/outdoorunet-01-0.9643.hdf5\n"
          ]
        },
        {
          "output_type": "stream",
          "name": "stderr",
          "text": [
            "/usr/local/lib/python3.10/dist-packages/keras/src/engine/training.py:3103: UserWarning: You are saving your model as an HDF5 file via `model.save()`. This file format is considered legacy. We recommend using instead the native Keras format, e.g. `model.save('my_model.keras')`.\n",
            "  saving_api.save_model(\n"
          ]
        },
        {
          "output_type": "stream",
          "name": "stdout",
          "text": [
            "\b\b\b\b\b\b\b\b\b\b\b\b\b\b\b\b\b\b\b\b\b\b\b\b\b\b\b\b\b\b\b\b\b\b\b\b\b\b\b\b\b\b\b\b\b\b\b\b\b\b\b\b\b\b\b\b\b\b\b\b\b\b\b\b\b\b\b\b\b\b\b\b\b\b\b\b\b\b\b\b\b\b\b\b\r150/150 [==============================] - 482s 3s/step - loss: 0.9643 - accuracy: 0.5483 - val_loss: 3.4469 - val_accuracy: 0.5166\n",
            "Epoch 2/20\n",
            "150/150 [==============================] - ETA: 0s - loss: 0.5356 - accuracy: 0.6106\n",
            "Epoch 2: loss improved from 0.96426 to 0.53560, saving model to /content/outdoorunet-02-0.5356.hdf5\n",
            "150/150 [==============================] - 84s 560ms/step - loss: 0.5356 - accuracy: 0.6106 - val_loss: 3.6362 - val_accuracy: 0.5435\n",
            "Epoch 3/20\n",
            "150/150 [==============================] - ETA: 0s - loss: 0.4698 - accuracy: 0.6312\n",
            "Epoch 3: loss improved from 0.53560 to 0.46977, saving model to /content/outdoorunet-03-0.4698.hdf5\n",
            "150/150 [==============================] - 92s 613ms/step - loss: 0.4698 - accuracy: 0.6312 - val_loss: 2.9311 - val_accuracy: 0.6218\n",
            "Epoch 4/20\n",
            "150/150 [==============================] - ETA: 0s - loss: 0.4404 - accuracy: 0.6469\n",
            "Epoch 4: loss improved from 0.46977 to 0.44037, saving model to /content/outdoorunet-04-0.4404.hdf5\n",
            "150/150 [==============================] - 84s 562ms/step - loss: 0.4404 - accuracy: 0.6469 - val_loss: 2.5799 - val_accuracy: 0.6464\n",
            "Epoch 5/20\n",
            "150/150 [==============================] - ETA: 0s - loss: 0.4120 - accuracy: 0.6592\n",
            "Epoch 5: loss improved from 0.44037 to 0.41196, saving model to /content/outdoorunet-05-0.4120.hdf5\n",
            "150/150 [==============================] - 84s 560ms/step - loss: 0.4120 - accuracy: 0.6592 - val_loss: 2.0751 - val_accuracy: 0.6461\n",
            "Epoch 6/20\n",
            "150/150 [==============================] - ETA: 0s - loss: 0.3926 - accuracy: 0.6687\n",
            "Epoch 6: loss improved from 0.41196 to 0.39264, saving model to /content/outdoorunet-06-0.3926.hdf5\n",
            "150/150 [==============================] - 84s 558ms/step - loss: 0.3926 - accuracy: 0.6687 - val_loss: 1.5964 - val_accuracy: 0.6661\n",
            "Epoch 7/20\n",
            "150/150 [==============================] - ETA: 0s - loss: 0.3775 - accuracy: 0.6761\n",
            "Epoch 7: loss improved from 0.39264 to 0.37747, saving model to /content/outdoorunet-07-0.3775.hdf5\n",
            "150/150 [==============================] - 83s 556ms/step - loss: 0.3775 - accuracy: 0.6761 - val_loss: 2.0818 - val_accuracy: 0.6612\n",
            "Epoch 8/20\n",
            "150/150 [==============================] - ETA: 0s - loss: 0.3650 - accuracy: 0.6825\n",
            "Epoch 8: loss improved from 0.37747 to 0.36498, saving model to /content/outdoorunet-08-0.3650.hdf5\n",
            "150/150 [==============================] - 84s 563ms/step - loss: 0.3650 - accuracy: 0.6825 - val_loss: 1.6810 - val_accuracy: 0.6291\n",
            "Epoch 9/20\n",
            "150/150 [==============================] - ETA: 0s - loss: 0.3545 - accuracy: 0.6871\n",
            "Epoch 9: loss improved from 0.36498 to 0.35449, saving model to /content/outdoorunet-09-0.3545.hdf5\n",
            "150/150 [==============================] - 84s 558ms/step - loss: 0.3545 - accuracy: 0.6871 - val_loss: 1.4737 - val_accuracy: 0.6253\n",
            "Epoch 10/20\n",
            "150/150 [==============================] - ETA: 0s - loss: 0.3441 - accuracy: 0.6934\n",
            "Epoch 10: loss improved from 0.35449 to 0.34408, saving model to /content/outdoorunet-10-0.3441.hdf5\n",
            "150/150 [==============================] - 84s 562ms/step - loss: 0.3441 - accuracy: 0.6934 - val_loss: 1.4430 - val_accuracy: 0.6195\n",
            "Epoch 11/20\n",
            "150/150 [==============================] - ETA: 0s - loss: 0.3362 - accuracy: 0.6975\n",
            "Epoch 11: loss improved from 0.34408 to 0.33616, saving model to /content/outdoorunet-11-0.3362.hdf5\n",
            "150/150 [==============================] - 84s 558ms/step - loss: 0.3362 - accuracy: 0.6975 - val_loss: 1.4323 - val_accuracy: 0.5620\n",
            "Epoch 12/20\n",
            "150/150 [==============================] - ETA: 0s - loss: 0.3268 - accuracy: 0.7010\n",
            "Epoch 12: loss improved from 0.33616 to 0.32677, saving model to /content/outdoorunet-12-0.3268.hdf5\n",
            "150/150 [==============================] - 84s 562ms/step - loss: 0.3268 - accuracy: 0.7010 - val_loss: 0.9891 - val_accuracy: 0.6500\n",
            "Epoch 13/20\n",
            "150/150 [==============================] - ETA: 0s - loss: 0.3219 - accuracy: 0.7026\n",
            "Epoch 13: loss improved from 0.32677 to 0.32186, saving model to /content/outdoorunet-13-0.3219.hdf5\n",
            "150/150 [==============================] - 84s 557ms/step - loss: 0.3219 - accuracy: 0.7026 - val_loss: 1.3154 - val_accuracy: 0.6500\n",
            "Epoch 14/20\n",
            "150/150 [==============================] - ETA: 0s - loss: 0.3155 - accuracy: 0.7063\n",
            "Epoch 14: loss improved from 0.32186 to 0.31548, saving model to /content/outdoorunet-14-0.3155.hdf5\n",
            "150/150 [==============================] - 83s 557ms/step - loss: 0.3155 - accuracy: 0.7063 - val_loss: 1.1602 - val_accuracy: 0.6643\n",
            "Epoch 15/20\n",
            "150/150 [==============================] - ETA: 0s - loss: 0.3098 - accuracy: 0.7089\n",
            "Epoch 15: loss improved from 0.31548 to 0.30982, saving model to /content/outdoorunet-15-0.3098.hdf5\n",
            "150/150 [==============================] - 84s 563ms/step - loss: 0.3098 - accuracy: 0.7089 - val_loss: 1.2410 - val_accuracy: 0.6722\n",
            "Epoch 16/20\n",
            "150/150 [==============================] - ETA: 0s - loss: 0.3051 - accuracy: 0.7115\n",
            "Epoch 16: loss improved from 0.30982 to 0.30514, saving model to /content/outdoorunet-16-0.3051.hdf5\n",
            "150/150 [==============================] - 84s 563ms/step - loss: 0.3051 - accuracy: 0.7115 - val_loss: 0.9174 - val_accuracy: 0.6407\n",
            "Epoch 17/20\n",
            "150/150 [==============================] - ETA: 0s - loss: 0.3018 - accuracy: 0.7142\n",
            "Epoch 17: loss improved from 0.30514 to 0.30184, saving model to /content/outdoorunet-17-0.3018.hdf5\n",
            "150/150 [==============================] - 84s 559ms/step - loss: 0.3018 - accuracy: 0.7142 - val_loss: 1.1309 - val_accuracy: 0.6578\n",
            "Epoch 18/20\n",
            "150/150 [==============================] - ETA: 0s - loss: 0.3012 - accuracy: 0.7169\n",
            "Epoch 18: loss improved from 0.30184 to 0.30121, saving model to /content/outdoorunet-18-0.3012.hdf5\n",
            "150/150 [==============================] - 85s 564ms/step - loss: 0.3012 - accuracy: 0.7169 - val_loss: 1.0191 - val_accuracy: 0.6056\n",
            "Epoch 19/20\n",
            "150/150 [==============================] - ETA: 0s - loss: 0.2980 - accuracy: 0.7176\n",
            "Epoch 19: loss improved from 0.30121 to 0.29798, saving model to /content/outdoorunet-19-0.2980.hdf5\n",
            "150/150 [==============================] - 84s 563ms/step - loss: 0.2980 - accuracy: 0.7176 - val_loss: 0.9044 - val_accuracy: 0.6955\n",
            "Epoch 20/20\n",
            "150/150 [==============================] - ETA: 0s - loss: 0.2924 - accuracy: 0.7217\n",
            "Epoch 20: loss improved from 0.29798 to 0.29243, saving model to /content/outdoorunet-20-0.2924.hdf5\n",
            "150/150 [==============================] - 84s 563ms/step - loss: 0.2924 - accuracy: 0.7217 - val_loss: 0.7874 - val_accuracy: 0.6209\n"
          ]
        }
      ]
    },
    {
      "cell_type": "markdown",
      "source": [
        "## **Visualize the validation accuracy and loss**"
      ],
      "metadata": {
        "id": "Vl2thmIRfKri"
      }
    },
    {
      "cell_type": "code",
      "source": [
        "import matplotlib.pyplot as plt\n",
        "\n",
        "# Extract loss and accuracy (or other metrics) from the history object\n",
        "train_loss = history.history['loss']\n",
        "val_loss = history.history['val_loss']\n",
        "\n",
        "# If you have other metrics like accuracy\n",
        "train_accuracy = history.history.get('accuracy')\n",
        "val_accuracy = history.history.get('val_accuracy')\n"
      ],
      "metadata": {
        "id": "3yt4s9kLetoH"
      },
      "execution_count": null,
      "outputs": []
    },
    {
      "cell_type": "code",
      "source": [
        "plt.figure(figsize=(12, 6))\n",
        "\n",
        "# Plot training and validation loss\n",
        "plt.subplot(1, 2, 1)\n",
        "plt.plot(train_loss, label='Training Loss')\n",
        "plt.plot(val_loss, label='Validation Loss')\n",
        "plt.title('Training and Validation Loss')\n",
        "plt.xlabel('Epochs')\n",
        "plt.ylabel('Loss')\n",
        "plt.legend()\n",
        "\n",
        "# Plot training and validation accuracy if available\n",
        "if train_accuracy and val_accuracy:\n",
        "    plt.subplot(1, 2, 2)\n",
        "    plt.plot(train_accuracy, label='Training Accuracy')\n",
        "    plt.plot(val_accuracy, label='Validation Accuracy')\n",
        "    plt.title('Training and Validation Accuracy')\n",
        "    plt.xlabel('Epochs')\n",
        "    plt.ylabel('Accuracy')\n",
        "    plt.legend()\n",
        "\n",
        "plt.tight_layout()\n",
        "plt.show()\n"
      ],
      "metadata": {
        "colab": {
          "base_uri": "https://localhost:8080/",
          "height": 607
        },
        "id": "Ds42aICKezyv",
        "outputId": "cf7b8af2-eea0-41a7-e630-fa23f53f82d3"
      },
      "execution_count": null,
      "outputs": [
        {
          "output_type": "display_data",
          "data": {
            "text/plain": [
              "<Figure size 1200x600 with 2 Axes>"
            ],
            "image/png": "[encoded data removed]"
          },
          "metadata": {}
        }
      ]
    },
    {
      "cell_type": "markdown",
      "source": [
        "## **Saving the model**"
      ],
      "metadata": {
        "id": "ajDVwuR45Fh6"
      }
    },
    {
      "cell_type": "code",
      "source": [
        "model.save('/content/dehazing_model.h5')\n",
        "model.save('/content/drive/MyDrive/Samsung Prism/dehazing_model.h5')"
      ],
      "metadata": {
        "id": "Iqb5sPKwJdvo"
      },
      "execution_count": null,
      "outputs": []
    }
  ]
}